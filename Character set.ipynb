{
 "cells": [
  {
   "cell_type": "code",
   "execution_count": 4,
   "id": "78f7e16c",
   "metadata": {},
   "outputs": [],
   "source": [
    "import re"
   ]
  },
  {
   "cell_type": "code",
   "execution_count": 5,
   "id": "c5e4493e",
   "metadata": {},
   "outputs": [],
   "source": [
    "def find_pattern(text, patterns):\n",
    "    if re.search(patterns, text):\n",
    "        return re.search(patterns, text)\n",
    "    else:\n",
    "        return 'Not Found!'"
   ]
  },
  {
   "cell_type": "markdown",
   "id": "a9af5d1e",
   "metadata": {},
   "source": [
    "### character sets"
   ]
  },
  {
   "cell_type": "code",
   "execution_count": 6,
   "id": "4769f19a",
   "metadata": {},
   "outputs": [],
   "source": [
    "#[]"
   ]
  },
  {
   "cell_type": "code",
   "execution_count": 19,
   "id": "2c1a7fbd",
   "metadata": {},
   "outputs": [
    {
     "name": "stdout",
     "output_type": "stream",
     "text": [
      "<re.Match object; span=(0, 1), match='x'>\n"
     ]
    }
   ],
   "source": [
    "print(find_pattern(\"xyz\",\"[x-z]\"))"
   ]
  },
  {
   "cell_type": "code",
   "execution_count": 15,
   "id": "b77df849",
   "metadata": {},
   "outputs": [
    {
     "name": "stdout",
     "output_type": "stream",
     "text": [
      "<re.Match object; span=(0, 1), match='a'>\n"
     ]
    }
   ],
   "source": [
    "print(find_pattern(\"abc\",\"[a-c]\"))"
   ]
  },
  {
   "cell_type": "code",
   "execution_count": 16,
   "id": "66dd8690",
   "metadata": {},
   "outputs": [
    {
     "name": "stdout",
     "output_type": "stream",
     "text": [
      "Not Found!\n"
     ]
    }
   ],
   "source": [
    "print(find_pattern(\"xyz\",\"[a-c]\"))"
   ]
  },
  {
   "cell_type": "code",
   "execution_count": 17,
   "id": "6af62317",
   "metadata": {},
   "outputs": [
    {
     "name": "stdout",
     "output_type": "stream",
     "text": [
      "<re.Match object; span=(0, 1), match='x'>\n"
     ]
    }
   ],
   "source": [
    "print(find_pattern(\"xyz\",\"[xyz]\"))"
   ]
  }
 ],
 "metadata": {
  "kernelspec": {
   "display_name": "Python 3 (ipykernel)",
   "language": "python",
   "name": "python3"
  },
  "language_info": {
   "codemirror_mode": {
    "name": "ipython",
    "version": 3
   },
   "file_extension": ".py",
   "mimetype": "text/x-python",
   "name": "python",
   "nbconvert_exporter": "python",
   "pygments_lexer": "ipython3",
   "version": "3.9.13"
  }
 },
 "nbformat": 4,
 "nbformat_minor": 5
}
