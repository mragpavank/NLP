{
 "cells": [
  {
   "cell_type": "code",
   "execution_count": 1,
   "id": "96a4a8cb",
   "metadata": {},
   "outputs": [],
   "source": [
    "#Quantifiers :Quantifiers are basically indicators which indicates whatever it is followed by it has a special meaning"
   ]
  },
  {
   "cell_type": "code",
   "execution_count": 5,
   "id": "78f7e16c",
   "metadata": {},
   "outputs": [],
   "source": [
    "import re"
   ]
  },
  {
   "cell_type": "code",
   "execution_count": 6,
   "id": "c5e4493e",
   "metadata": {},
   "outputs": [],
   "source": [
    "def find_pattern(text, patterns):\n",
    "    if re.search(patterns, text):\n",
    "        return re.search(patterns, text)\n",
    "    else:\n",
    "        return 'Not Found!'"
   ]
  },
  {
   "cell_type": "markdown",
   "id": "ff50aa10",
   "metadata": {},
   "source": [
    "### Anchors"
   ]
  },
  {
   "cell_type": "code",
   "execution_count": 7,
   "id": "fffbfacd",
   "metadata": {},
   "outputs": [],
   "source": [
    "# ^ and $"
   ]
  },
  {
   "cell_type": "code",
   "execution_count": 8,
   "id": "281b5d47",
   "metadata": {},
   "outputs": [
    {
     "name": "stdout",
     "output_type": "stream",
     "text": [
      "<re.Match object; span=(0, 1), match='A'>\n",
      "Not Found!\n",
      "<re.Match object; span=(4, 5), match='a'>\n",
      "Not Found!\n"
     ]
    }
   ],
   "source": [
    "print(find_pattern(\"Australia\", \"^A\"))   # return true if string starts with 'A' \n",
    "print(find_pattern(\"Japan\", \"^M\"))  # return true if string starts with 'M' \n",
    "print(find_pattern(\"India\", \"a$\"))   # return true if string ends with 'a'\n",
    "print(find_pattern(\"England\", \"c$\"))   # return true if string ends with 'c'"
   ]
  }
 ],
 "metadata": {
  "kernelspec": {
   "display_name": "Python 3 (ipykernel)",
   "language": "python",
   "name": "python3"
  },
  "language_info": {
   "codemirror_mode": {
    "name": "ipython",
    "version": 3
   },
   "file_extension": ".py",
   "mimetype": "text/x-python",
   "name": "python",
   "nbconvert_exporter": "python",
   "pygments_lexer": "ipython3",
   "version": "3.9.13"
  }
 },
 "nbformat": 4,
 "nbformat_minor": 5
}
