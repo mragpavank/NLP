{
 "cells": [
  {
   "cell_type": "code",
   "execution_count": 2,
   "id": "78f7e16c",
   "metadata": {},
   "outputs": [],
   "source": [
    "import re"
   ]
  },
  {
   "cell_type": "code",
   "execution_count": 3,
   "id": "c5e4493e",
   "metadata": {},
   "outputs": [],
   "source": [
    "def find_pattern(text, patterns):\n",
    "    if re.search(patterns, text):\n",
    "        return re.search(patterns, text)\n",
    "    else:\n",
    "        return 'Not Found!'"
   ]
  },
  {
   "cell_type": "markdown",
   "id": "a9af5d1e",
   "metadata": {},
   "source": [
    "### character sets"
   ]
  },
  {
   "cell_type": "code",
   "execution_count": 24,
   "id": "4769f19a",
   "metadata": {},
   "outputs": [],
   "source": [
    "#[]"
   ]
  },
  {
   "cell_type": "code",
   "execution_count": 25,
   "id": "2c1a7fbd",
   "metadata": {},
   "outputs": [
    {
     "name": "stdout",
     "output_type": "stream",
     "text": [
      "<re.Match object; span=(0, 1), match='x'>\n"
     ]
    }
   ],
   "source": [
    "print(find_pattern(\"xyz\",\"[x-z]\"))"
   ]
  },
  {
   "cell_type": "code",
   "execution_count": 26,
   "id": "3f899327",
   "metadata": {},
   "outputs": [
    {
     "name": "stdout",
     "output_type": "stream",
     "text": [
      "<re.Match object; span=(0, 1), match='a'>\n"
     ]
    }
   ],
   "source": [
    "print(find_pattern(\"abc\",\"[a-c]\"))"
   ]
  },
  {
   "cell_type": "code",
   "execution_count": 27,
   "id": "75a5eb12",
   "metadata": {},
   "outputs": [
    {
     "name": "stdout",
     "output_type": "stream",
     "text": [
      "Not Found!\n"
     ]
    }
   ],
   "source": [
    "print(find_pattern(\"xyz\",\"[a-c]\"))"
   ]
  },
  {
   "cell_type": "code",
   "execution_count": 28,
   "id": "4ab091d7",
   "metadata": {},
   "outputs": [
    {
     "name": "stdout",
     "output_type": "stream",
     "text": [
      "<re.Match object; span=(0, 1), match='x'>\n"
     ]
    }
   ],
   "source": [
    "print(find_pattern(\"xyz\",\"[xyz]\"))"
   ]
  },
  {
   "cell_type": "code",
   "execution_count": 31,
   "id": "ef9d0cc2",
   "metadata": {},
   "outputs": [
    {
     "name": "stdout",
     "output_type": "stream",
     "text": [
      "<re.Match object; span=(0, 1), match='a'>\n"
     ]
    }
   ],
   "source": [
    "print(find_pattern(\"ab\",\"[abc$]\"))"
   ]
  },
  {
   "cell_type": "code",
   "execution_count": 1,
   "id": "5adb4e4f",
   "metadata": {},
   "outputs": [
    {
     "name": "stdout",
     "output_type": "stream",
     "text": [
      "Requirement already satisfied: nltk in c:\\users\\pavan\\anaconda3\\lib\\site-packages (3.7)\n",
      "Requirement already satisfied: joblib in c:\\users\\pavan\\anaconda3\\lib\\site-packages (from nltk) (1.1.0)\n",
      "Requirement already satisfied: tqdm in c:\\users\\pavan\\anaconda3\\lib\\site-packages (from nltk) (4.64.1)\n",
      "Requirement already satisfied: regex>=2021.8.3 in c:\\users\\pavan\\anaconda3\\lib\\site-packages (from nltk) (2022.7.9)\n",
      "Requirement already satisfied: click in c:\\users\\pavan\\anaconda3\\lib\\site-packages (from nltk) (8.0.4)\n",
      "Requirement already satisfied: colorama in c:\\users\\pavan\\anaconda3\\lib\\site-packages (from click->nltk) (0.4.5)\n"
     ]
    }
   ],
   "source": [
    "!pip install nltk"
   ]
  },
  {
   "cell_type": "code",
   "execution_count": 9,
   "id": "859d2beb",
   "metadata": {},
   "outputs": [],
   "source": [
    "import nltk\n",
    "import string\n",
    "import re"
   ]
  },
  {
   "cell_type": "code",
   "execution_count": 10,
   "id": "0e818ce8",
   "metadata": {},
   "outputs": [
    {
     "data": {
      "text/plain": [
       "'i am from bengaluru'"
      ]
     },
     "execution_count": 10,
     "metadata": {},
     "output_type": "execute_result"
    }
   ],
   "source": [
    "def lowercase_text(text):\n",
    "    return text.lower()\n",
    "sentence=\"I am From benGaluru\"\n",
    "lowercase_text(sentence)"
   ]
  },
  {
   "cell_type": "code",
   "execution_count": 11,
   "id": "50f42b00",
   "metadata": {},
   "outputs": [
    {
     "data": {
      "text/plain": [
       "'I AM FROM BENGALURU'"
      ]
     },
     "execution_count": 11,
     "metadata": {},
     "output_type": "execute_result"
    }
   ],
   "source": [
    "def uppercase_text(text):\n",
    "    return text.upper()\n",
    "sentence=\"I am From benGaluru\"\n",
    "uppercase_text(sentence)"
   ]
  },
  {
   "cell_type": "code",
   "execution_count": 6,
   "id": "04c7be25",
   "metadata": {},
   "outputs": [],
   "source": [
    "#Lazy regex"
   ]
  },
  {
   "cell_type": "code",
   "execution_count": 7,
   "id": "2dc1a48b",
   "metadata": {},
   "outputs": [
    {
     "name": "stdout",
     "output_type": "stream",
     "text": [
      "<re.Match object; span=(2, 7), match='abbbb'>\n"
     ]
    }
   ],
   "source": [
    "print(find_pattern(\"aaabbbbbcc\",\"ab{4,5}?\"))"
   ]
  },
  {
   "cell_type": "markdown",
   "id": "5a2da197",
   "metadata": {},
   "source": [
    "# Remove punctuations"
   ]
  },
  {
   "cell_type": "code",
   "execution_count": null,
   "id": "012ea901",
   "metadata": {},
   "outputs": [],
   "source": [
    "#I have 4 apples and if I cut the into 2 pieces each it will become 8 apples"
   ]
  },
  {
   "cell_type": "code",
   "execution_count": null,
   "id": "f2c660fe",
   "metadata": {},
   "outputs": [],
   "source": [
    "import re"
   ]
  },
  {
   "cell_type": "code",
   "execution_count": 7,
   "id": "178fface",
   "metadata": {},
   "outputs": [
    {
     "data": {
      "text/plain": [
       "'I have  apples and if I cut them into  pieces each it will become  apples'"
      ]
     },
     "execution_count": 7,
     "metadata": {},
     "output_type": "execute_result"
    }
   ],
   "source": [
    "def remove_number(text):\n",
    "    result=re.sub(r'\\d+', '' ,text)\n",
    "    return result\n",
    "input_sentence=\"I have 4 apples and if I cut them into 2 pieces each it will become 8 apples\"\n",
    "remove_number(input_sentence)"
   ]
  },
  {
   "cell_type": "code",
   "execution_count": 33,
   "id": "4d4938a8",
   "metadata": {},
   "outputs": [],
   "source": [
    "import string"
   ]
  },
  {
   "cell_type": "code",
   "execution_count": 34,
   "id": "4bc7761c",
   "metadata": {},
   "outputs": [
    {
     "data": {
      "text/plain": [
       "'!\"#$%&\\'()*+,-./:;<=>?@[\\\\]^_`{|}~'"
      ]
     },
     "execution_count": 34,
     "metadata": {},
     "output_type": "execute_result"
    }
   ],
   "source": [
    "string.punctuation"
   ]
  },
  {
   "cell_type": "code",
   "execution_count": 35,
   "id": "fde492c6",
   "metadata": {},
   "outputs": [],
   "source": [
    "#Hey whatsup buddy!!!,How are you feeling today?"
   ]
  },
  {
   "cell_type": "code",
   "execution_count": 36,
   "id": "d4679952",
   "metadata": {},
   "outputs": [
    {
     "data": {
      "text/plain": [
       "'Hey Whatsup buddy How are you feeling now Do you want some dollars '"
      ]
     },
     "execution_count": 36,
     "metadata": {},
     "output_type": "execute_result"
    }
   ],
   "source": [
    "def rem_punc(text):\n",
    "    translator=str.maketrans(\"\",\"\",string.punctuation)\n",
    "    return text.translate(translator)\n",
    "input_sentence = \"Hey!!! Whatsup buddy?, How are you feeling now?. Do you want some dollars ($)\"\n",
    "rem_punc(input_sentence)"
   ]
  },
  {
   "cell_type": "code",
   "execution_count": null,
   "id": "97b6cf96",
   "metadata": {},
   "outputs": [],
   "source": []
  },
  {
   "cell_type": "code",
   "execution_count": null,
   "id": "16cf2d4d",
   "metadata": {},
   "outputs": [],
   "source": []
  },
  {
   "cell_type": "code",
   "execution_count": null,
   "id": "ad651149",
   "metadata": {},
   "outputs": [],
   "source": []
  },
  {
   "cell_type": "code",
   "execution_count": null,
   "id": "1a1f7d43",
   "metadata": {},
   "outputs": [],
   "source": []
  },
  {
   "cell_type": "code",
   "execution_count": null,
   "id": "ee6d258f",
   "metadata": {},
   "outputs": [],
   "source": []
  },
  {
   "cell_type": "code",
   "execution_count": null,
   "id": "f6df885a",
   "metadata": {},
   "outputs": [],
   "source": []
  },
  {
   "cell_type": "code",
   "execution_count": null,
   "id": "8e1cf047",
   "metadata": {},
   "outputs": [],
   "source": []
  }
 ],
 "metadata": {
  "kernelspec": {
   "display_name": "Python 3 (ipykernel)",
   "language": "python",
   "name": "python3"
  },
  "language_info": {
   "codemirror_mode": {
    "name": "ipython",
    "version": 3
   },
   "file_extension": ".py",
   "mimetype": "text/x-python",
   "name": "python",
   "nbconvert_exporter": "python",
   "pygments_lexer": "ipython3",
   "version": "3.9.13"
  }
 },
 "nbformat": 4,
 "nbformat_minor": 5
}
