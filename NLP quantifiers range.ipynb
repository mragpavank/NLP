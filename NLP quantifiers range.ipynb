{
 "cells": [
  {
   "cell_type": "code",
   "execution_count": 1,
   "id": "96a4a8cb",
   "metadata": {},
   "outputs": [],
   "source": [
    "#Quantifiers :Quantifiers are basically indicators which indicates whatever it is followed by it has a special meaning"
   ]
  },
  {
   "cell_type": "code",
   "execution_count": 9,
   "id": "78f7e16c",
   "metadata": {},
   "outputs": [],
   "source": [
    "import re"
   ]
  },
  {
   "cell_type": "code",
   "execution_count": 10,
   "id": "c5e4493e",
   "metadata": {},
   "outputs": [],
   "source": [
    "def find_pattern(text, patterns):\n",
    "    if re.search(patterns, text):\n",
    "        return re.search(patterns, text)\n",
    "    else:\n",
    "        return 'Not Found!'"
   ]
  },
  {
   "cell_type": "code",
   "execution_count": 11,
   "id": "6b86b867",
   "metadata": {},
   "outputs": [
    {
     "name": "stdout",
     "output_type": "stream",
     "text": [
      "<re.Match object; span=(2, 6), match='abbb'>\n"
     ]
    }
   ],
   "source": [
    "print(find_pattern(\"aaabbbccc\",\"ab{2,3}\"))"
   ]
  },
  {
   "cell_type": "code",
   "execution_count": 12,
   "id": "ce2e7471",
   "metadata": {},
   "outputs": [
    {
     "name": "stdout",
     "output_type": "stream",
     "text": [
      "Not Found!\n"
     ]
    }
   ],
   "source": [
    "print(find_pattern(\"bbbccdef\",\"de{2,4}\"))"
   ]
  },
  {
   "cell_type": "code",
   "execution_count": 13,
   "id": "38cd50ba",
   "metadata": {},
   "outputs": [
    {
     "name": "stdout",
     "output_type": "stream",
     "text": [
      "<re.Match object; span=(0, 5), match='abbbb'>\n"
     ]
    }
   ],
   "source": [
    "print(find_pattern(\"abbbb\",\"ab{1,4}\"))"
   ]
  },
  {
   "cell_type": "code",
   "execution_count": 14,
   "id": "d4c05184",
   "metadata": {},
   "outputs": [
    {
     "name": "stdout",
     "output_type": "stream",
     "text": [
      "<re.Match object; span=(1, 4), match='cdd'>\n"
     ]
    }
   ],
   "source": [
    "print(find_pattern(\"ccddee\",\"cd{2,2}\"))"
   ]
  }
 ],
 "metadata": {
  "kernelspec": {
   "display_name": "Python 3 (ipykernel)",
   "language": "python",
   "name": "python3"
  },
  "language_info": {
   "codemirror_mode": {
    "name": "ipython",
    "version": 3
   },
   "file_extension": ".py",
   "mimetype": "text/x-python",
   "name": "python",
   "nbconvert_exporter": "python",
   "pygments_lexer": "ipython3",
   "version": "3.9.13"
  }
 },
 "nbformat": 4,
 "nbformat_minor": 5
}
