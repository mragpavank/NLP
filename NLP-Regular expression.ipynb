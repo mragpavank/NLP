{
 "cells": [
  {
   "cell_type": "code",
   "execution_count": 1,
   "id": "c545d1b8",
   "metadata": {},
   "outputs": [],
   "source": [
    "#Regular expression is an expression where we can use it in any programming language to specify the pattern,which is used mainly to identify the substring in a given string\"\n",
    "#A regular expression is a sequence of characters that specifies a match pattern in text#"
   ]
  },
  {
   "cell_type": "code",
   "execution_count": 2,
   "id": "f0d1078f",
   "metadata": {},
   "outputs": [],
   "source": [
    "import re"
   ]
  },
  {
   "cell_type": "code",
   "execution_count": 3,
   "id": "c9d6deda",
   "metadata": {},
   "outputs": [
    {
     "name": "stdout",
     "output_type": "stream",
     "text": [
      "<re.Match object; span=(0, 5), match='India'>\n"
     ]
    }
   ],
   "source": [
    "print(re.search('India','India is one of the best country'))"
   ]
  }
 ],
 "metadata": {
  "kernelspec": {
   "display_name": "Python 3 (ipykernel)",
   "language": "python",
   "name": "python3"
  },
  "language_info": {
   "codemirror_mode": {
    "name": "ipython",
    "version": 3
   },
   "file_extension": ".py",
   "mimetype": "text/x-python",
   "name": "python",
   "nbconvert_exporter": "python",
   "pygments_lexer": "ipython3",
   "version": "3.9.13"
  }
 },
 "nbformat": 4,
 "nbformat_minor": 5
}
