{
 "cells": [
  {
   "cell_type": "code",
   "execution_count": 1,
   "id": "96a4a8cb",
   "metadata": {},
   "outputs": [],
   "source": [
    "#Quantifiers :Quantifiers are basically indicators which indicates whatever it is followed by it has a special meaning"
   ]
  },
  {
   "cell_type": "code",
   "execution_count": 2,
   "id": "78f7e16c",
   "metadata": {},
   "outputs": [],
   "source": [
    "import re"
   ]
  },
  {
   "cell_type": "code",
   "execution_count": 3,
   "id": "c5e4493e",
   "metadata": {},
   "outputs": [],
   "source": [
    "def find_pattern(text, patterns):\n",
    "    if re.search(patterns, text):\n",
    "        return re.search(patterns, text)\n",
    "    else:\n",
    "        return 'Not Found!'"
   ]
  },
  {
   "cell_type": "code",
   "execution_count": 9,
   "id": "e8af109b",
   "metadata": {},
   "outputs": [],
   "source": [
    "#* (zero or more)"
   ]
  },
  {
   "cell_type": "code",
   "execution_count": 14,
   "id": "e42788f3",
   "metadata": {},
   "outputs": [
    {
     "name": "stdout",
     "output_type": "stream",
     "text": [
      "<re.Match object; span=(0, 3), match='abc'>\n"
     ]
    }
   ],
   "source": [
    "print(find_pattern('abc','abcd*'))"
   ]
  },
  {
   "cell_type": "code",
   "execution_count": 15,
   "id": "fc8a473b",
   "metadata": {},
   "outputs": [
    {
     "name": "stdout",
     "output_type": "stream",
     "text": [
      "<re.Match object; span=(0, 3), match='xyz'>\n"
     ]
    }
   ],
   "source": [
    "print(find_pattern('xyz','xyza*'))"
   ]
  },
  {
   "cell_type": "code",
   "execution_count": 16,
   "id": "a7ba8a1c",
   "metadata": {},
   "outputs": [
    {
     "name": "stdout",
     "output_type": "stream",
     "text": [
      "Not Found!\n"
     ]
    }
   ],
   "source": [
    "print(find_pattern('dkym','dfym*'))"
   ]
  }
 ],
 "metadata": {
  "kernelspec": {
   "display_name": "Python 3 (ipykernel)",
   "language": "python",
   "name": "python3"
  },
  "language_info": {
   "codemirror_mode": {
    "name": "ipython",
    "version": 3
   },
   "file_extension": ".py",
   "mimetype": "text/x-python",
   "name": "python",
   "nbconvert_exporter": "python",
   "pygments_lexer": "ipython3",
   "version": "3.9.13"
  }
 },
 "nbformat": 4,
 "nbformat_minor": 5
}
