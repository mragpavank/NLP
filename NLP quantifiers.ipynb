{
 "cells": [
  {
   "cell_type": "code",
   "execution_count": 1,
   "id": "96a4a8cb",
   "metadata": {},
   "outputs": [],
   "source": [
    "#Quantifiers :Quantifiers are basically indicators which indicates whatever it is followed by it has a special meaning"
   ]
  },
  {
   "cell_type": "code",
   "execution_count": 11,
   "id": "78f7e16c",
   "metadata": {},
   "outputs": [],
   "source": [
    "import re"
   ]
  },
  {
   "cell_type": "code",
   "execution_count": 16,
   "id": "c5e4493e",
   "metadata": {},
   "outputs": [],
   "source": [
    "def find_pattern(text, patterns):\n",
    "    if re.search(patterns, text):\n",
    "        return re.search(patterns, text)\n",
    "    else:\n",
    "        return 'Not Found!'"
   ]
  },
  {
   "cell_type": "code",
   "execution_count": 17,
   "id": "6ede46dd",
   "metadata": {},
   "outputs": [
    {
     "name": "stdout",
     "output_type": "stream",
     "text": [
      "<re.Match object; span=(0, 2), match='ab'>\n"
     ]
    }
   ],
   "source": [
    "print(find_pattern('abc','ab?'))"
   ]
  },
  {
   "cell_type": "code",
   "execution_count": 18,
   "id": "d360b209",
   "metadata": {},
   "outputs": [
    {
     "name": "stdout",
     "output_type": "stream",
     "text": [
      "Not Found!\n"
     ]
    }
   ],
   "source": [
    "print(find_pattern('xyz','lmn?'))"
   ]
  },
  {
   "cell_type": "code",
   "execution_count": 19,
   "id": "31b5bd66",
   "metadata": {},
   "outputs": [
    {
     "name": "stdout",
     "output_type": "stream",
     "text": [
      "<re.Match object; span=(0, 3), match='abc'>\n"
     ]
    }
   ],
   "source": [
    "print(find_pattern('abcde','abc?'))"
   ]
  }
 ],
 "metadata": {
  "kernelspec": {
   "display_name": "Python 3 (ipykernel)",
   "language": "python",
   "name": "python3"
  },
  "language_info": {
   "codemirror_mode": {
    "name": "ipython",
    "version": 3
   },
   "file_extension": ".py",
   "mimetype": "text/x-python",
   "name": "python",
   "nbconvert_exporter": "python",
   "pygments_lexer": "ipython3",
   "version": "3.9.13"
  }
 },
 "nbformat": 4,
 "nbformat_minor": 5
}
